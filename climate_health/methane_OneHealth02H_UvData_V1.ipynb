{
 "cells": [
  {
   "cell_type": "markdown",
   "id": "f9b83b62",
   "metadata": {},
   "source": [
    "# UV Index Simulated data"
   ]
  },
  {
   "cell_type": "markdown",
   "id": "e7aae36b",
   "metadata": {},
   "source": [
    "The data is obtained by assuming average low and high temperatures as parameters for each US state.\n",
    "The assumption incorporates summer, winter, spring, and fall temperatures. We simply used 20 states as an example."
   ]
  },
  {
   "cell_type": "code",
   "execution_count": 1,
   "id": "dc5439bd",
   "metadata": {},
   "outputs": [],
   "source": [
    "import pandas as pd\n",
    "import numpy as np"
   ]
  },
  {
   "cell_type": "markdown",
   "id": "6da52e7a",
   "metadata": {},
   "source": [
    "The JSON format contains assumed monthly low and high temperatures as well as a random seed for each state (to make data repeatable by state)."
   ]
  },
  {
   "cell_type": "code",
   "execution_count": 2,
   "id": "1e4b7dc2",
   "metadata": {},
   "outputs": [],
   "source": [
    "# Typically low and high temperatures in the selected US states being demonstrated are between 51 and 94 degrees Fahrenheit.\n",
    "# We assumed UV index from 0 - 12 => band_limit = (high-low)/12 = 3.6\n",
    "\n",
    "assumed_data = [\n",
    "    {\"low\": 69.0, \"high\": 90.0, \"rnd_seed\": 123, \"state_code\": \"AL\"}, \n",
    "    {\"low\": 68.0, \"high\": 90.0, \"rnd_seed\": 124, \"state_code\": \"AR\"}, \n",
    "    {\"low\": 64.0, \"high\": 94.0, \"rnd_seed\": 125, \"state_code\": \"AZ\"}, \n",
    "    {\"low\": 59.0, \"high\": 89.0, \"rnd_seed\": 126, \"state_code\": \"CA\"}, \n",
    "    {\"low\": 51.0, \"high\": 81.0, \"rnd_seed\": 127, \"state_code\": \"CO\"}, \n",
    "    {\"low\": 72.0, \"high\": 91.0, \"rnd_seed\": 128, \"state_code\": \"FL\"}, \n",
    "    {\"low\": 69.0, \"high\": 90.0, \"rnd_seed\": 129, \"state_code\": \"GA\"}, \n",
    "    {\"low\": 64.0, \"high\": 89.0, \"rnd_seed\": 130, \"state_code\": \"KS\"}, \n",
    "    {\"low\": 72.0, \"high\": 91.0, \"rnd_seed\": 131, \"state_code\": \"LA\"}, \n",
    "    {\"low\": 56.0, \"high\": 78.0, \"rnd_seed\": 132, \"state_code\": \"MI\"}, \n",
    "    {\"low\": 54.0, \"high\": 79.0, \"rnd_seed\": 133, \"state_code\": \"ND\"}, \n",
    "    {\"low\": 57.0, \"high\": 88.0, \"rnd_seed\": 134, \"state_code\": \"NM\"}, \n",
    "    {\"low\": 54.0, \"high\": 86.0, \"rnd_seed\": 135, \"state_code\": \"NV\"}, \n",
    "    {\"low\": 56.0, \"high\": 78.0, \"rnd_seed\": 136, \"state_code\": \"NY\"}, \n",
    "    {\"low\": 61.0, \"high\": 82.0, \"rnd_seed\": 137, \"state_code\": \"OH\"}, \n",
    "    {\"low\": 68.0, \"high\": 92.0, \"rnd_seed\": 138, \"state_code\": \"OK\"}, \n",
    "    {\"low\": 58.0, \"high\": 80.0, \"rnd_seed\": 139, \"state_code\": \"PA\"}, \n",
    "    {\"low\": 70.0, \"high\": 94.0, \"rnd_seed\": 140, \"state_code\": \"TX\"}, \n",
    "    {\"low\": 55.0, \"high\": 85.0, \"rnd_seed\": 141, \"state_code\": \"UT\"}, \n",
    "    {\"low\": 60.0, \"high\": 82.0, \"rnd_seed\": 142, \"state_code\": \"WV\"}\n",
    "]"
   ]
  },
  {
   "cell_type": "code",
   "execution_count": 3,
   "id": "c3e88a5f",
   "metadata": {},
   "outputs": [],
   "source": [
    "low = 51 # low temperature\n",
    "band_limit = 3.6 # interval used to determine the UV index"
   ]
  },
  {
   "cell_type": "markdown",
   "id": "bc4d7c5a",
   "metadata": {},
   "source": [
    "The function is to simulate the monthly average nitrogen for a stated year range by state."
   ]
  },
  {
   "cell_type": "code",
   "execution_count": 4,
   "id": "9dd091ab",
   "metadata": {},
   "outputs": [],
   "source": [
    "def simulated_UVI(state_assumed, start_year=2019, end_year=2022, samples=12):\n",
    "    '''\n",
    "    :param start_year: The start year for data generation\n",
    "    :param end_year: The end year for data generation\n",
    "    :param state_assumed: JSON object from the assumed_data array of JSON objects, representing a US state. \n",
    "    :param samples: The default is 12 (12 months in a year). Samples for a US state are generated 12 times in a year.\n",
    "    :return: A stacked NumPy array of years, monthly average UVI, and state_codes.\n",
    "    '''\n",
    "    np.random.seed(state_assumed['rnd_seed'])\n",
    "     \n",
    "    yrs, uvi, s_code = [], [], []\n",
    "    for i in range(start_year, end_year):\n",
    "        # randomly generate the state monthly average temperature\n",
    "        prediction=np.random.uniform(state_assumed['low'], state_assumed['high'], samples)\n",
    "        # convert the temperature to UV index\n",
    "        monthly_uvi = np.round((prediction-low)/band_limit)\n",
    "\n",
    "        # add the state_codes and years\n",
    "        state_code = np.full((samples), state_assumed['state_code'])\n",
    "        years = np.full((samples), i)\n",
    "        # append data to the individual arrays\n",
    "        uvi.append(monthly_uvi)\n",
    "        yrs.append(years)\n",
    "        s_code.append(state_code)\n",
    "        \n",
    "    uvi = np.concatenate(uvi)\n",
    "    yrs = np.concatenate(yrs)\n",
    "    s_code = np.concatenate(s_code)\n",
    "    results = np.vstack((yrs, uvi, s_code))\n",
    "    \n",
    "    return np.array(results)"
   ]
  },
  {
   "cell_type": "markdown",
   "id": "760cf85e",
   "metadata": {},
   "source": [
    "Generate data for all the 20 US state we considered"
   ]
  },
  {
   "cell_type": "code",
   "execution_count": 5,
   "id": "d15da6a3",
   "metadata": {},
   "outputs": [
    {
     "name": "stdout",
     "output_type": "stream",
     "text": [
      "[['2019' '9.0' 'AL']\n",
      " ['2019' '7.0' 'AL']\n",
      " ['2019' '6.0' 'AL']\n",
      " ...\n",
      " ['2021' '6.0' 'WV']\n",
      " ['2021' '4.0' 'WV']\n",
      " ['2021' '7.0' 'WV']]\n"
     ]
    }
   ],
   "source": [
    "all_data = []\n",
    "for state_assumed in assumed_data:\n",
    "    # we assumed monthly average data so the samples=12\n",
    "    state_monthly = simulated_UVI(state_assumed).T\n",
    "    all_data.append(state_monthly)\n",
    "    \n",
    "all_data = np.concatenate(all_data)\n",
    "\n",
    "print(all_data)"
   ]
  },
  {
   "cell_type": "markdown",
   "id": "7769eec1",
   "metadata": {},
   "source": [
    "Save the NumPy array to a CSV file for future analysis and dashboard display."
   ]
  },
  {
   "cell_type": "code",
   "execution_count": 6,
   "id": "a123b7ed",
   "metadata": {},
   "outputs": [],
   "source": [
    "np.savetxt(\"monthly_uvi.csv\", all_data, fmt=\"%s\", delimiter=\",\")"
   ]
  },
  {
   "cell_type": "code",
   "execution_count": null,
   "id": "e03fdc5b",
   "metadata": {},
   "outputs": [],
   "source": []
  }
 ],
 "metadata": {
  "kernelspec": {
   "display_name": "Python 3 (ipykernel)",
   "language": "python",
   "name": "python3"
  },
  "language_info": {
   "codemirror_mode": {
    "name": "ipython",
    "version": 3
   },
   "file_extension": ".py",
   "mimetype": "text/x-python",
   "name": "python",
   "nbconvert_exporter": "python",
   "pygments_lexer": "ipython3",
   "version": "3.10.9"
  }
 },
 "nbformat": 4,
 "nbformat_minor": 5
}
