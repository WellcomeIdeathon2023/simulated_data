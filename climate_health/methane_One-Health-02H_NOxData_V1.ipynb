{
 "cells": [
  {
   "cell_type": "markdown",
   "id": "f9b83b62",
   "metadata": {},
   "source": [
    "# Nitrogen Oxide Simulated data"
   ]
  },
  {
   "cell_type": "markdown",
   "id": "e7aae36b",
   "metadata": {},
   "source": [
    "The data is generated using some assumed parameters per state.\n",
    "The assumption considers the level of agriculture, industrial (including mining), and domestic activities per state. For demonstration purpose, we only used 20 states."
   ]
  },
  {
   "cell_type": "code",
   "execution_count": 1,
   "id": "dc5439bd",
   "metadata": {},
   "outputs": [],
   "source": [
    "import pandas as pd\n",
    "import numpy as np"
   ]
  },
  {
   "cell_type": "markdown",
   "id": "6da52e7a",
   "metadata": {},
   "source": [
    "The JSON structure; holds assumed average monthly nitrogen oxide emissions in parts/billion, a guessed standard deviation, and a random seed for each state (to make data reproducible by state). "
   ]
  },
  {
   "cell_type": "code",
   "execution_count": 2,
   "id": "1e4b7dc2",
   "metadata": {},
   "outputs": [],
   "source": [
    "assumed_data = [\n",
    "    {\"rnd_seed\": 244, \"state_code\": \"AL\", \"assumed_std\": 4.0, \"assumed_monthly_avg\": 280.0}, \n",
    "    {\"rnd_seed\": 246, \"state_code\": \"AR\", \"assumed_std\": 3.0, \"assumed_monthly_avg\": 180.0}, \n",
    "    {\"rnd_seed\": 245, \"state_code\": \"AZ\", \"assumed_std\": 6.0, \"assumed_monthly_avg\": 400.0},\n",
    "    {\"rnd_seed\": 247, \"state_code\": \"CA\", \"assumed_std\": 6.0, \"assumed_monthly_avg\": 290.0},\n",
    "    {\"rnd_seed\": 248, \"state_code\": \"CO\", \"assumed_std\": 8.0, \"assumed_monthly_avg\": 230.0},\n",
    "    {\"rnd_seed\": 252, \"state_code\": \"FL\", \"assumed_std\": 5.0, \"assumed_monthly_avg\": 240.0},\n",
    "    {\"rnd_seed\": 253, \"state_code\": \"GA\", \"assumed_std\": 6.0, \"assumed_monthly_avg\": 410.0}, \n",
    "    {\"rnd_seed\": 259, \"state_code\": \"KS\", \"assumed_std\": 5.0, \"assumed_monthly_avg\": 130.0}, \n",
    "    {\"rnd_seed\": 261, \"state_code\": \"LA\", \"assumed_std\": 4.0, \"assumed_monthly_avg\": 150.0}, \n",
    "    {\"rnd_seed\": 265, \"state_code\": \"MI\", \"assumed_std\": 5.0, \"assumed_monthly_avg\": 290.0 }, \n",
    "    {\"rnd_seed\": 276, \"state_code\": \"ND\", \"assumed_std\": 2.0, \"assumed_monthly_avg\": 70.0 }, \n",
    "    {\"rnd_seed\": 273, \"state_code\": \"NM\", \"assumed_std\": 4.0, \"assumed_monthly_avg\": 180.0}, \n",
    "    {\"rnd_seed\": 270, \"state_code\": \"NV\", \"assumed_std\": 8.0, \"assumed_monthly_avg\": 400.0}, \n",
    "    {\"rnd_seed\": 274, \"state_code\": \"NY\", \"assumed_std\": 7.0, \"assumed_monthly_avg\": 330.0}, \n",
    "    {\"rnd_seed\": 277, \"state_code\": \"OH\", \"assumed_std\": 6.0, \"assumed_monthly_avg\": 270.0}, \n",
    "    {\"rnd_seed\": 278, \"state_code\": \"OK\", \"assumed_std\": 5.0, \"assumed_monthly_avg\": 230.0}, \n",
    "    {\"rnd_seed\": 280, \"state_code\": \"PA\", \"assumed_std\": 5.0, \"assumed_monthly_avg\": 180.0}, \n",
    "    {\"rnd_seed\": 285, \"state_code\": \"TX\", \"assumed_std\": 6.0, \"assumed_monthly_avg\": 190.0}, \n",
    "    {\"rnd_seed\": 286,  \"state_code\": \"UT\", \"assumed_std\": 7.0, \"assumed_monthly_avg\": 220.0}, \n",
    "    {\"rnd_seed\": 292, \"state_code\": \"WV\", \"assumed_std\": 6.0, \"assumed_monthly_avg\": 200.0}\n",
    "]\n"
   ]
  },
  {
   "cell_type": "markdown",
   "id": "bc4d7c5a",
   "metadata": {},
   "source": [
    "The function is to simulate the monthly average nitrogen for a stated year range by state."
   ]
  },
  {
   "cell_type": "code",
   "execution_count": 3,
   "id": "9dd091ab",
   "metadata": {},
   "outputs": [],
   "source": [
    "def simulated_nitrogen_oxide(state_assumed, start_year=2019, end_year=2022, samples=12):\n",
    "    '''\n",
    "    :param start_year: The start year for data generation\n",
    "    :param end_year: The end year for data generation\n",
    "    :param state_assumed: JSON object from the assumed_data array of JSON objects, representing a US state. \n",
    "    :param samples: The default is 12 (12 months in a year). Samples for a US state are generated 12 times in a year.\n",
    "    :return: A stacked NumPy array of years, monthly average (parts/billion), and state_codes.\n",
    "    '''\n",
    "    np.random.seed(state_assumed['rnd_seed'])\n",
    "     \n",
    "    yrs, m_avg, s_code = [], [], []\n",
    "    for i in range(start_year, end_year):\n",
    "        # randomly generate the state monthly average NOx\n",
    "        monthly_average=np.random.normal(state_assumed['assumed_monthly_avg'], state_assumed['assumed_std'], samples)\n",
    "        # add the state_codes and years\n",
    "        state_code = np.full((samples), state_assumed['state_code'])\n",
    "        years = np.full((samples), i)\n",
    "        # append data to the individual arrays\n",
    "        m_avg.append(monthly_average)\n",
    "        yrs.append(years)\n",
    "        s_code.append(state_code)\n",
    "        \n",
    "    m_avg = np.concatenate(m_avg)\n",
    "    yrs = np.concatenate(yrs)\n",
    "    s_code = np.concatenate(s_code)\n",
    "    results = np.vstack((yrs, m_avg, s_code))\n",
    "    \n",
    "    return np.array(results)"
   ]
  },
  {
   "cell_type": "markdown",
   "id": "760cf85e",
   "metadata": {},
   "source": [
    "Generate data for all the 20 US state we considered"
   ]
  },
  {
   "cell_type": "code",
   "execution_count": 4,
   "id": "d15da6a3",
   "metadata": {},
   "outputs": [],
   "source": [
    "all_data = []\n",
    "for state_assumed in assumed_data:\n",
    "    # we assumed monthly average data so the samples=12\n",
    "    state_monthly = simulated_nitrogen_oxide(state_assumed).T\n",
    "    all_data.append(state_monthly)\n",
    "    \n",
    "all_data = np.concatenate(all_data)"
   ]
  },
  {
   "cell_type": "markdown",
   "id": "7769eec1",
   "metadata": {},
   "source": [
    "Save the NumPy array to a CSV file for future analysis and dashboard display."
   ]
  },
  {
   "cell_type": "code",
   "execution_count": 5,
   "id": "a123b7ed",
   "metadata": {},
   "outputs": [],
   "source": [
    "np.savetxt(\"nitrogen_oxide.csv\", all_data, fmt=\"%s\", delimiter=\",\")"
   ]
  },
  {
   "cell_type": "code",
   "execution_count": null,
   "id": "0f26eb67",
   "metadata": {},
   "outputs": [],
   "source": []
  }
 ],
 "metadata": {
  "kernelspec": {
   "display_name": "Python 3 (ipykernel)",
   "language": "python",
   "name": "python3"
  },
  "language_info": {
   "codemirror_mode": {
    "name": "ipython",
    "version": 3
   },
   "file_extension": ".py",
   "mimetype": "text/x-python",
   "name": "python",
   "nbconvert_exporter": "python",
   "pygments_lexer": "ipython3",
   "version": "3.10.9"
  }
 },
 "nbformat": 4,
 "nbformat_minor": 5
}
